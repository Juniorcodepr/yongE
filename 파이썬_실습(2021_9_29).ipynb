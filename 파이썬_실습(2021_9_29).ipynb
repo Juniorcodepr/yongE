{
  "nbformat": 4,
  "nbformat_minor": 0,
  "metadata": {
    "colab": {
      "name": "파이썬 실습(2021.9.29).ipynb",
      "provenance": [],
      "collapsed_sections": [],
      "authorship_tag": "ABX9TyNZ9aTkor+YjNg0NAZ1jMeh",
      "include_colab_link": true
    },
    "kernelspec": {
      "name": "python3",
      "display_name": "Python 3"
    },
    "language_info": {
      "name": "python"
    }
  },
  "cells": [
    {
      "cell_type": "markdown",
      "metadata": {
        "id": "view-in-github",
        "colab_type": "text"
      },
      "source": [
        "<a href=\"https://colab.research.google.com/github/Juniorcodepr/yongE/blob/main/%ED%8C%8C%EC%9D%B4%EC%8D%AC_%EC%8B%A4%EC%8A%B5(2021_9_29).ipynb\" target=\"_parent\"><img src=\"https://colab.research.google.com/assets/colab-badge.svg\" alt=\"Open In Colab\"/></a>"
      ]
    },
    {
      "cell_type": "code",
      "metadata": {
        "colab": {
          "base_uri": "https://localhost:8080/"
        },
        "id": "sMW1WOPv0BFq",
        "outputId": "2e7f1a6c-ddef-4ff0-a239-b0f96eff6f45"
      },
      "source": [
        "x = 3\n",
        "y = 5\n",
        "x + y"
      ],
      "execution_count": null,
      "outputs": [
        {
          "output_type": "execute_result",
          "data": {
            "text/plain": [
              "8"
            ]
          },
          "metadata": {},
          "execution_count": 9
        }
      ]
    },
    {
      "cell_type": "markdown",
      "metadata": {
        "id": "88kVthKM0zLX"
      },
      "source": [
        "- 지금은 파이썬 기초입니다. 잘 배웁시다.\n",
        "# 큰 제목입니다.\n",
        "## 작은 제목\n",
        "### 더 작은 제목\n",
        "#### 더더 작은 제목\n",
        "- 불렛\n",
        " - 들여쓰기\n",
        "\n",
        "Ctrl + M, D (delete)"
      ]
    },
    {
      "cell_type": "code",
      "metadata": {
        "colab": {
          "base_uri": "https://localhost:8080/"
        },
        "id": "2RRtr1pu0Uen",
        "outputId": "db940170-34a2-46a4-ff46-d9cf95d68afd"
      },
      "source": [
        "x*100 # shift + enter : 셀을 실행한다"
      ],
      "execution_count": null,
      "outputs": [
        {
          "output_type": "execute_result",
          "data": {
            "text/plain": [
              "300"
            ]
          },
          "metadata": {},
          "execution_count": 10
        }
      ]
    },
    {
      "cell_type": "code",
      "metadata": {
        "colab": {
          "base_uri": "https://localhost:8080/"
        },
        "id": "R3TLndI81Wk3",
        "outputId": "5e2a5320-b979-45c8-d090-67303ac0d4c0"
      },
      "source": [
        "y + 1000"
      ],
      "execution_count": null,
      "outputs": [
        {
          "output_type": "execute_result",
          "data": {
            "text/plain": [
              "1005"
            ]
          },
          "metadata": {},
          "execution_count": 11
        }
      ]
    },
    {
      "cell_type": "code",
      "metadata": {
        "id": "lCj5mcG91ZCX"
      },
      "source": [
        ""
      ],
      "execution_count": null,
      "outputs": []
    }
  ]
}